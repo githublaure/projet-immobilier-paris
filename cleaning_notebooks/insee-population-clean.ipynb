{
 "cells": [
  {
   "cell_type": "code",
   "execution_count": 1,
   "id": "ace3a942-9cfa-4d0f-ac28-a728b7725669",
   "metadata": {},
   "outputs": [],
   "source": [
    "import pandas as pd\n",
    "import numpy as np\n",
    "from janitor import clean_names"
   ]
  },
  {
   "cell_type": "code",
   "execution_count": null,
   "id": "bc0fc873-9276-47f8-b3e8-81f6a28fe451",
   "metadata": {},
   "outputs": [],
   "source": [
    "pop = pd.read_csv('code-postal-code-insee-2015.csv', sep=';').clean_names()"
   ]
  },
  {
   "cell_type": "code",
   "execution_count": null,
   "id": "277c593a-4c38-4892-ac0b-a9cfe22ed1e8",
   "metadata": {},
   "outputs": [],
   "source": [
    "pop = (pop\n",
    " .query('code_postal.astype(\"int\").astype(\"str\").str.contains(\"^93|^92|^94|^75\")')\n",
    " .loc[:, ['code_postal', 'nom_com', 'population']]\n",
    ")"
   ]
  },
  {
   "cell_type": "code",
   "execution_count": null,
   "id": "1e0f5cba-1ddc-44c6-8431-86310b6f58e5",
   "metadata": {},
   "outputs": [],
   "source": [
    "pop.to_csv(\"insee-population2015.csv\")"
   ]
  }
 ],
 "metadata": {
  "kernelspec": {
   "display_name": "Python 3",
   "language": "python",
   "name": "python3"
  },
  "language_info": {
   "codemirror_mode": {
    "name": "ipython",
    "version": 3
   },
   "file_extension": ".py",
   "mimetype": "text/x-python",
   "name": "python",
   "nbconvert_exporter": "python",
   "pygments_lexer": "ipython3",
   "version": "3.9.2"
  }
 },
 "nbformat": 4,
 "nbformat_minor": 5
}
