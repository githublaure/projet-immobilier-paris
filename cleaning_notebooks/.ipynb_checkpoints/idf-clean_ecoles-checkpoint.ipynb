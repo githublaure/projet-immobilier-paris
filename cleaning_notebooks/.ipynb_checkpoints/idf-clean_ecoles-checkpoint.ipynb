{
 "cells": [
  {
   "cell_type": "code",
   "execution_count": 34,
   "id": "77e21aa5-b636-46c4-8ac8-0fe1de8858a4",
   "metadata": {},
   "outputs": [],
   "source": [
    "import pandas as pd\n",
    "import numpy as np\n",
    "from janitor import clean_names"
   ]
  },
  {
   "cell_type": "code",
   "execution_count": 16,
   "id": "5ee36b2d-ad75-4fea-bfc6-1fcac3767998",
   "metadata": {},
   "outputs": [],
   "source": [
    "ecoles = pd.read_csv('les_etablissements_d_enseignement_des_1er_et_2d_degres_en_idf.csv', sep=';', encoding = 'utf8').clean_names()"
   ]
  },
  {
   "cell_type": "code",
   "execution_count": 53,
   "id": "d8a97f20-8054-4a02-b335-dbd8dc0bb936",
   "metadata": {},
   "outputs": [],
   "source": [
    "ecoles_clean = (ecoles\n",
    " .assign(type_etablissement = lambda x: np.where(\n",
    "                                         x.nature.str.contains('LYCEE'), 'LYCEE',\n",
    "                                        np.where(x.nature.str.contains('COLLEGE'), 'COLLEGE', \n",
    "                                        np.where(x.nature.str.contains('ELEMENTAIRE'), 'ELEMENTAIRE',\n",
    "                                        np.where(x.nature.str.contains('MATERNELLE'), 'MATERNELLE', 'Missing')))))\n",
    " .groupby(['code_postal', 'type_etablissement'], as_index=False)[['code_etablissement']]\n",
    " .agg('count')\n",
    " .query('type_etablissement != \"Missing\"')\n",
    ")"
   ]
  },
  {
   "cell_type": "code",
   "execution_count": 54,
   "id": "8d9e0b83-6470-4547-881c-9787500e57ac",
   "metadata": {},
   "outputs": [],
   "source": [
    "ecoles_clean.to_csv('dataidf-ecoles.csv')"
   ]
  },
  {
   "cell_type": "code",
   "execution_count": null,
   "id": "7669480c-6ea4-4cd7-b0cd-392e502f7dda",
   "metadata": {},
   "outputs": [],
   "source": []
  }
 ],
 "metadata": {
  "kernelspec": {
   "display_name": "Python 3",
   "language": "python",
   "name": "python3"
  },
  "language_info": {
   "codemirror_mode": {
    "name": "ipython",
    "version": 3
   },
   "file_extension": ".py",
   "mimetype": "text/x-python",
   "name": "python",
   "nbconvert_exporter": "python",
   "pygments_lexer": "ipython3",
   "version": "3.9.2"
  }
 },
 "nbformat": 4,
 "nbformat_minor": 5
}
