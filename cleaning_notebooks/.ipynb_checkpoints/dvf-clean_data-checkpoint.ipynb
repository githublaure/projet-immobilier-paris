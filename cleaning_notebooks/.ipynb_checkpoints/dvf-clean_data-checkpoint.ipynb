{
 "cells": [
  {
   "cell_type": "markdown",
   "metadata": {},
   "source": [
    "# Clean DVF Data"
   ]
  },
  {
   "cell_type": "markdown",
   "metadata": {},
   "source": [
    "The objective of this notebook is to clean the DVF raw data"
   ]
  },
  {
   "cell_type": "code",
   "execution_count": 11,
   "metadata": {},
   "outputs": [],
   "source": [
    "# Import required libraries\n",
    "import numpy as np\n",
    "import pandas as pd\n",
    "import seaborn as sns\n",
    "from janitor import clean_names\n",
    "import re"
   ]
  },
  {
   "cell_type": "code",
   "execution_count": 43,
   "metadata": {},
   "outputs": [],
   "source": [
    "columns_to_keep =  ['date_mutation',\n",
    "                    'nature_mutation', \n",
    "                    'valeur_fonciere',\n",
    "                    'no_voie',\n",
    "                    'type_de_voie', \n",
    "                    'code_voie', \n",
    "                    'voie', \n",
    "                    'code_postal',\n",
    "                    'commune', \n",
    "                    'code_departement', \n",
    "                    'code_commune',\n",
    "                    'section', \n",
    "                    'no_plan', \n",
    "                    'no_volume',\n",
    "                    'nombre_de_lots', \n",
    "                    'code_type_local', \n",
    "                    'type_local', \n",
    "                    'surface_reelle_bati', \n",
    "                    'nombre_pieces_principales', \n",
    "                    'nature_culture',\n",
    "                    'nature_culture_speciale', \n",
    "                    'surface_terrain']"
   ]
  },
  {
   "cell_type": "code",
   "execution_count": 46,
   "metadata": {},
   "outputs": [],
   "source": [
    "columns_with_year =  ['date_mutation',\n",
    "                    'nature_mutation', \n",
    "                    'valeur_fonciere',\n",
    "                    'no_voie',\n",
    "                    'type_de_voie', \n",
    "                    'code_voie', \n",
    "                    'voie', \n",
    "                    'code_postal',\n",
    "                    'commune', \n",
    "                    'code_departement', \n",
    "                    'code_commune',\n",
    "                    'section', \n",
    "                    'no_plan', \n",
    "                    'no_volume',\n",
    "                    'nombre_de_lots', \n",
    "                    'code_type_local', \n",
    "                    'type_local', \n",
    "                    'surface_reelle_bati', \n",
    "                    'nombre_pieces_principales', \n",
    "                    'nature_culture',\n",
    "                    'nature_culture_speciale', \n",
    "                    'surface_terrain',\n",
    "                    'year']"
   ]
  },
  {
   "cell_type": "code",
   "execution_count": 51,
   "metadata": {},
   "outputs": [],
   "source": [
    "def clean_dvf_raw(file, columns_to_keep):\n",
    "    year = re.search('\\d+', file).group(0)\n",
    "    df = pd.read_csv(file, sep='|').clean_names()\n",
    "    df = (df\n",
    "          .query('code_departement in [75, 92, 93, 94] & code_type_local != 3')\n",
    "          .loc[:, columns_to_keep]\n",
    "          .drop_duplicates()\n",
    "          .assign(year = year)\n",
    "         )\n",
    "    return df"
   ]
  },
  {
   "cell_type": "code",
   "execution_count": 24,
   "metadata": {},
   "outputs": [
    {
     "data": {
      "text/plain": [
       "['valeursfoncieres-2016.txt',\n",
       " 'valeursfoncieres-2017.txt',\n",
       " 'valeursfoncieres-2018.txt',\n",
       " 'valeursfoncieres-2019.txt',\n",
       " 'valeursfoncieres-2020.txt']"
      ]
     },
     "execution_count": 24,
     "metadata": {},
     "output_type": "execute_result"
    }
   ],
   "source": [
    "files = [f for f in os.listdir()  if re.search(r'valeurs(.*).txt', f)]\n",
    "files"
   ]
  },
  {
   "cell_type": "code",
   "execution_count": 53,
   "metadata": {},
   "outputs": [
    {
     "name": "stderr",
     "output_type": "stream",
     "text": [
      "C:\\Users\\JouJo\\Anaconda3\\envs\\Python3_9\\lib\\site-packages\\IPython\\core\\interactiveshell.py:3357: DtypeWarning: Columns (18,23,24,26,28,30,31,32,33,41) have mixed types.Specify dtype option on import or set low_memory=False.\n",
      "  if (await self.run_code(code, result,  async_=asy)):\n",
      "C:\\Users\\JouJo\\Anaconda3\\envs\\Python3_9\\lib\\site-packages\\IPython\\core\\interactiveshell.py:3357: DtypeWarning: Columns (18,23,24,26,28,31,33,41) have mixed types.Specify dtype option on import or set low_memory=False.\n",
      "  if (await self.run_code(code, result,  async_=asy)):\n",
      "C:\\Users\\JouJo\\Anaconda3\\envs\\Python3_9\\lib\\site-packages\\IPython\\core\\interactiveshell.py:3357: DtypeWarning: Columns (18,23,24,26,28,29,31,32,33,41) have mixed types.Specify dtype option on import or set low_memory=False.\n",
      "  if (await self.run_code(code, result,  async_=asy)):\n",
      "C:\\Users\\JouJo\\Anaconda3\\envs\\Python3_9\\lib\\site-packages\\IPython\\core\\interactiveshell.py:3357: DtypeWarning: Columns (18,23,24,26,28,29,31,33,41) have mixed types.Specify dtype option on import or set low_memory=False.\n",
      "  if (await self.run_code(code, result,  async_=asy)):\n",
      "C:\\Users\\JouJo\\Anaconda3\\envs\\Python3_9\\lib\\site-packages\\IPython\\core\\interactiveshell.py:3357: DtypeWarning: Columns (14,18,23,24,26,28,31,33,41) have mixed types.Specify dtype option on import or set low_memory=False.\n",
      "  if (await self.run_code(code, result,  async_=asy)):\n"
     ]
    }
   ],
   "source": [
    "dvf_data = pd.DataFrame(columns=columns_with_year)\n",
    "\n",
    "for file in files:\n",
    "    df = clean_dvf_raw(file, columns_to_keep)\n",
    "    dvf_data = pd.concat([dvf_data, df], axis=0)\n",
    "    "
   ]
  },
  {
   "cell_type": "code",
   "execution_count": 56,
   "metadata": {},
   "outputs": [],
   "source": [
    "dvf_data.to_csv('dvf-data.csv')"
   ]
  }
 ],
 "metadata": {
  "kernelspec": {
   "display_name": "Python 3",
   "language": "python",
   "name": "python3"
  },
  "language_info": {
   "codemirror_mode": {
    "name": "ipython",
    "version": 3
   },
   "file_extension": ".py",
   "mimetype": "text/x-python",
   "name": "python",
   "nbconvert_exporter": "python",
   "pygments_lexer": "ipython3",
   "version": "3.9.4"
  }
 },
 "nbformat": 4,
 "nbformat_minor": 4
}
