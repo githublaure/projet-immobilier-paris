{
 "cells": [
  {
   "cell_type": "code",
   "execution_count": 1,
   "metadata": {},
   "outputs": [],
   "source": [
    "import pandas as pd\n",
    "import numpy as np\n",
    "from janitor import clean_names"
   ]
  },
  {
   "cell_type": "code",
   "execution_count": 33,
   "metadata": {},
   "outputs": [],
   "source": [
    "revenus = pd.read_csv('BASE_TD_FILO_DISP_IRIS_2018.csv', sep=';').clean_names()"
   ]
  },
  {
   "cell_type": "code",
   "execution_count": 34,
   "metadata": {},
   "outputs": [
    {
     "data": {
      "text/plain": [
       "Index(['iris', 'disp_tp6018', 'disp_q118', 'disp_med18', 'disp_q318',\n",
       "       'disp_eq18', 'disp_d118', 'disp_d218', 'disp_d318', 'disp_d418',\n",
       "       'disp_d618', 'disp_d718', 'disp_d818', 'disp_d918', 'disp_rd18',\n",
       "       'disp_s80s2018', 'disp_gi18', 'disp_pact18', 'disp_ptsa18',\n",
       "       'disp_pcho18', 'disp_pben18', 'disp_ppen18', 'disp_ppat18',\n",
       "       'disp_ppsoc18', 'disp_ppfam18', 'disp_ppmini18', 'disp_pplogt18',\n",
       "       'disp_pimpot18', 'disp_note18'],\n",
       "      dtype='object')"
      ]
     },
     "execution_count": 34,
     "metadata": {},
     "output_type": "execute_result"
    }
   ],
   "source": [
    "revenus.columns"
   ]
  },
  {
   "cell_type": "markdown",
   "metadata": {},
   "source": [
    "Average of median income by IRIS section by code postal"
   ]
  },
  {
   "cell_type": "code",
   "execution_count": 35,
   "metadata": {},
   "outputs": [],
   "source": [
    "revenus = (revenus\n",
    " .query('iris.str.contains(\"^75|^92|^93|^94\")', engine='python').loc[:, ['iris', 'disp_med18']]\n",
    " .assign(code_insee = lambda x: x.iris.str[:5],\n",
    "         code_postal = lambda x: x.code_insee.str.replace('751', '750')\n",
    "        )\n",
    " .groupby('code_postal', as_index=False)\n",
    " .agg(revenu_moyen = ('disp_med18', 'mean'))\n",
    ")"
   ]
  },
  {
   "cell_type": "code",
   "execution_count": 36,
   "metadata": {},
   "outputs": [],
   "source": [
    "revenus.to_csv('iris-revenus2018.csv')"
   ]
  },
  {
   "cell_type": "code",
   "execution_count": 37,
   "metadata": {},
   "outputs": [
    {
     "data": {
      "text/html": [
       "<div>\n",
       "<style scoped>\n",
       "    .dataframe tbody tr th:only-of-type {\n",
       "        vertical-align: middle;\n",
       "    }\n",
       "\n",
       "    .dataframe tbody tr th {\n",
       "        vertical-align: top;\n",
       "    }\n",
       "\n",
       "    .dataframe thead th {\n",
       "        text-align: right;\n",
       "    }\n",
       "</style>\n",
       "<table border=\"1\" class=\"dataframe\">\n",
       "  <thead>\n",
       "    <tr style=\"text-align: right;\">\n",
       "      <th></th>\n",
       "      <th>code_postal</th>\n",
       "      <th>revenu_moyen</th>\n",
       "    </tr>\n",
       "  </thead>\n",
       "  <tbody>\n",
       "    <tr>\n",
       "      <th>0</th>\n",
       "      <td>75001</td>\n",
       "      <td>35295.714286</td>\n",
       "    </tr>\n",
       "    <tr>\n",
       "      <th>1</th>\n",
       "      <td>75002</td>\n",
       "      <td>32617.000000</td>\n",
       "    </tr>\n",
       "    <tr>\n",
       "      <th>2</th>\n",
       "      <td>75003</td>\n",
       "      <td>33231.764706</td>\n",
       "    </tr>\n",
       "    <tr>\n",
       "      <th>3</th>\n",
       "      <td>75004</td>\n",
       "      <td>32447.500000</td>\n",
       "    </tr>\n",
       "    <tr>\n",
       "      <th>4</th>\n",
       "      <td>75005</td>\n",
       "      <td>34903.200000</td>\n",
       "    </tr>\n",
       "    <tr>\n",
       "      <th>...</th>\n",
       "      <td>...</td>\n",
       "      <td>...</td>\n",
       "    </tr>\n",
       "    <tr>\n",
       "      <th>124</th>\n",
       "      <td>94077</td>\n",
       "      <td>21253.750000</td>\n",
       "    </tr>\n",
       "    <tr>\n",
       "      <th>125</th>\n",
       "      <td>94078</td>\n",
       "      <td>15877.692308</td>\n",
       "    </tr>\n",
       "    <tr>\n",
       "      <th>126</th>\n",
       "      <td>94079</td>\n",
       "      <td>23703.333333</td>\n",
       "    </tr>\n",
       "    <tr>\n",
       "      <th>127</th>\n",
       "      <td>94080</td>\n",
       "      <td>33201.176471</td>\n",
       "    </tr>\n",
       "    <tr>\n",
       "      <th>128</th>\n",
       "      <td>94081</td>\n",
       "      <td>19153.055556</td>\n",
       "    </tr>\n",
       "  </tbody>\n",
       "</table>\n",
       "<p>129 rows × 2 columns</p>\n",
       "</div>"
      ],
      "text/plain": [
       "    code_postal  revenu_moyen\n",
       "0         75001  35295.714286\n",
       "1         75002  32617.000000\n",
       "2         75003  33231.764706\n",
       "3         75004  32447.500000\n",
       "4         75005  34903.200000\n",
       "..          ...           ...\n",
       "124       94077  21253.750000\n",
       "125       94078  15877.692308\n",
       "126       94079  23703.333333\n",
       "127       94080  33201.176471\n",
       "128       94081  19153.055556\n",
       "\n",
       "[129 rows x 2 columns]"
      ]
     },
     "execution_count": 37,
     "metadata": {},
     "output_type": "execute_result"
    }
   ],
   "source": [
    "revenus"
   ]
  },
  {
   "cell_type": "code",
   "execution_count": null,
   "metadata": {},
   "outputs": [],
   "source": []
  }
 ],
 "metadata": {
  "kernelspec": {
   "display_name": "Python 3",
   "language": "python",
   "name": "python3"
  },
  "language_info": {
   "codemirror_mode": {
    "name": "ipython",
    "version": 3
   },
   "file_extension": ".py",
   "mimetype": "text/x-python",
   "name": "python",
   "nbconvert_exporter": "python",
   "pygments_lexer": "ipython3",
   "version": "3.9.4"
  }
 },
 "nbformat": 4,
 "nbformat_minor": 4
}
