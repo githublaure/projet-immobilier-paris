{
 "cells": [
  {
   "cell_type": "code",
   "execution_count": 55,
   "id": "c2134171-e87a-4434-9dc7-d162117bdacb",
   "metadata": {},
   "outputs": [],
   "source": [
    "import pandas as pd\n",
    "import numpy as np\n",
    "from janitor import clean_names"
   ]
  },
  {
   "cell_type": "code",
   "execution_count": 82,
   "id": "371ca9f6-9475-4780-93c9-b4048b7309ee",
   "metadata": {},
   "outputs": [],
   "source": [
    "sncf = pd.read_excel('referentiel-gares-voyageurs.xlsx').clean_names()"
   ]
  },
  {
   "cell_type": "code",
   "execution_count": 87,
   "id": "622761fa-df56-40ee-bbdd-d8e7e66670fe",
   "metadata": {},
   "outputs": [
    {
     "name": "stdout",
     "output_type": "stream",
     "text": [
      "<class 'pandas.core.frame.DataFrame'>\n",
      "RangeIndex: 2867 entries, 0 to 2866\n",
      "Data columns (total 28 columns):\n",
      " #   Column                        Non-Null Count  Dtype  \n",
      "---  ------                        --------------  -----  \n",
      " 0   code_plate_forme              2867 non-null   object \n",
      " 1   code_uic                      2867 non-null   int64  \n",
      " 2   date_fin_validitz_plateforme  0 non-null      float64\n",
      " 3   intitule_plateforme           2867 non-null   object \n",
      " 4   code_postal                   2867 non-null   int64  \n",
      " 5   code_commune                  2867 non-null   int64  \n",
      " 6   commune                       2867 non-null   object \n",
      " 7   code_departement              2867 non-null   int64  \n",
      " 8   departement                   2867 non-null   object \n",
      " 9   longitude                     2863 non-null   float64\n",
      " 10  latitude                      2863 non-null   float64\n",
      " 11  segment_drg                   2867 non-null   object \n",
      " 12  niveau_de_service             2455 non-null   float64\n",
      " 13  rg                            2867 non-null   object \n",
      " 14  tvss                          2855 non-null   object \n",
      " 15  sops                          0 non-null      float64\n",
      " 16  gare                          2867 non-null   object \n",
      " 17  intitule_gare                 2867 non-null   object \n",
      " 18  intitule_fronton_de_gare      2864 non-null   object \n",
      " 19  gare_drg                      2867 non-null   bool   \n",
      " 20  gare_ztrangre                2867 non-null   bool   \n",
      " 21  dtg                           2867 non-null   object \n",
      " 22  region_sncf                   2846 non-null   object \n",
      " 23  unite_gare                    2480 non-null   object \n",
      " 24  ut                            2821 non-null   object \n",
      " 25  nbre_plateformes              2867 non-null   int64  \n",
      " 26  tvs                           2855 non-null   object \n",
      " 27  wgs_84                        2863 non-null   object \n",
      "dtypes: bool(2), float64(5), int64(5), object(16)\n",
      "memory usage: 588.1+ KB\n"
     ]
    }
   ],
   "source": [
    "sncf.info()"
   ]
  },
  {
   "cell_type": "code",
   "execution_count": 96,
   "id": "8c3fc236-34c5-4f84-a5f4-7eb878d13860",
   "metadata": {},
   "outputs": [],
   "source": [
    "sncf_geocoordinates = (sncf\n",
    " .query('code_departement in [75, 92, 93, 94]')\n",
    " .loc[:, ['code_uic', 'code_departement', 'code_postal', 'longitude', 'latitude']]\n",
    ")"
   ]
  },
  {
   "cell_type": "code",
   "execution_count": 98,
   "id": "549edbca-74a3-4462-877c-40252cb1bb5a",
   "metadata": {},
   "outputs": [],
   "source": [
    "sncf_gare_count = (sncf_geocoordinates\n",
    " .groupby('code_postal', as_index=False)[['code_uic']]\n",
    " .count()\n",
    ")"
   ]
  },
  {
   "cell_type": "code",
   "execution_count": 99,
   "id": "b09fb026-cc0e-454c-b0e1-d3dab83e6001",
   "metadata": {},
   "outputs": [],
   "source": [
    "sncf_geocoordinates.to_csv('sncf-geocoordinates.csv')\n",
    "sncf_gare_count.to_csv('sncf-gare-count.csv')"
   ]
  },
  {
   "cell_type": "code",
   "execution_count": null,
   "id": "2f2987a5-23c6-4d11-ba6b-cba4d36b0740",
   "metadata": {},
   "outputs": [],
   "source": []
  }
 ],
 "metadata": {
  "kernelspec": {
   "display_name": "Python 3",
   "language": "python",
   "name": "python3"
  },
  "language_info": {
   "codemirror_mode": {
    "name": "ipython",
    "version": 3
   },
   "file_extension": ".py",
   "mimetype": "text/x-python",
   "name": "python",
   "nbconvert_exporter": "python",
   "pygments_lexer": "ipython3",
   "version": "3.9.2"
  }
 },
 "nbformat": 4,
 "nbformat_minor": 5
}
