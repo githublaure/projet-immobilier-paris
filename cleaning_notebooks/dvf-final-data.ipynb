{
 "cells": [
  {
   "cell_type": "markdown",
   "metadata": {},
   "source": [
    "# Final work dictionary\n",
    "\n",
    "The objective of this notebook is to finish all the data-wrangling and generate the dataset that will be used in the analysis."
   ]
  },
  {
   "cell_type": "code",
   "execution_count": 22,
   "metadata": {},
   "outputs": [],
   "source": [
    "import pandas as pd\n",
    "import numpy as np\n",
    "import seaborn as sns"
   ]
  },
  {
   "cell_type": "code",
   "execution_count": 103,
   "metadata": {},
   "outputs": [
    {
     "name": "stderr",
     "output_type": "stream",
     "text": [
      "C:\\Users\\JouJo\\Anaconda3\\envs\\py39\\lib\\site-packages\\IPython\\core\\interactiveshell.py:3165: DtypeWarning: Columns (6,14,21) have mixed types.Specify dtype option on import or set low_memory=False.\n",
      "  has_raised = await self.run_ast_nodes(code_ast.body, cell_name,\n"
     ]
    }
   ],
   "source": [
    "dvf = pd.read_csv(\"dvf-data-gare.csv\")"
   ]
  },
  {
   "cell_type": "code",
   "execution_count": 5,
   "metadata": {},
   "outputs": [
    {
     "data": {
      "text/plain": [
       "array(['Vente', 'Adjudication', 'Echange',\n",
       "       \"Vente en l'état futur d'achèvement\", 'Expropriation',\n",
       "       'Vente terrain à bâtir'], dtype=object)"
      ]
     },
     "execution_count": 5,
     "metadata": {},
     "output_type": "execute_result"
    }
   ],
   "source": [
    "dvf.nature_mutation.unique()"
   ]
  },
  {
   "cell_type": "code",
   "execution_count": 39,
   "metadata": {},
   "outputs": [
    {
     "data": {
      "text/plain": [
       "Index(['Unnamed: 0', 'date_mutation', 'nature_mutation', 'valeur_fonciere',\n",
       "       'no_voie', 'type_de_voie', 'code_voie', 'voie', 'code_postal',\n",
       "       'commune', 'code_departement', 'code_commune', 'section', 'no_plan',\n",
       "       'no_volume', 'nombre_de_lots', 'code_type_local', 'type_local',\n",
       "       'surface_reelle_bati', 'nombre_pieces_principales', 'nature_culture',\n",
       "       'nature_culture_speciale', 'surface_terrain', 'year', 'nvoie',\n",
       "       'adresse', 'latitude', 'longitude', 'sncf_ngare1', 'sncf_ngare2',\n",
       "       'sncf_ngare3', 'sncf_min_distance', 'ratp_ngare1', 'ratp_ngare2',\n",
       "       'ratp_ngare3', 'ratp_min_distance', 'prix', 'prix_mcarre',\n",
       "       'prix_mcarre_log'],\n",
       "      dtype='object')"
      ]
     },
     "execution_count": 39,
     "metadata": {},
     "output_type": "execute_result"
    }
   ],
   "source": [
    "dvf.columns"
   ]
  },
  {
   "cell_type": "markdown",
   "metadata": {},
   "source": [
    "Here we keep only sales and we exclude the rows with missing values on `surface_reelle_bati` and `valeur_fonciere`."
   ]
  },
  {
   "cell_type": "code",
   "execution_count": 104,
   "metadata": {},
   "outputs": [],
   "source": [
    "dvf = dvf.query(\"nature_mutation == 'Vente'\").dropna(subset=['surface_reelle_bati', 'valeur_fonciere'])"
   ]
  },
  {
   "cell_type": "markdown",
   "metadata": {},
   "source": [
    "Here we do many things at the same time:\n",
    "\n",
    "1. We convert variables to numeric\n",
    "2. We create a column `adresse_date` to identify blocks of same `adresse` and `date`\n",
    "3. We convert date to date\n",
    "4. We calculate the total surface area for the buldings\n",
    "5. We find the price per squared meter\n",
    "6. We use the price per squared meter to calculate the price of each apartment\n",
    "7. We exclude the industrial places and filter the data to keep only appartments/houses that were sold for less than 10 million Euros, and we also keep only the houses that had a `prix_mcarre` between 300 and 30k euros"
   ]
  },
  {
   "cell_type": "code",
   "execution_count": 175,
   "metadata": {},
   "outputs": [],
   "source": [
    "dvf = (dvf\n",
    " .assign(prix_vf = lambda x: x.valeur_fonciere.str.replace(',', '.').astype('float'),\n",
    "         surface = lambda x: x.surface_reelle_bati.astype('float'),\n",
    "         adresse_date = lambda x: x.adresse + \"_\" + x.date_mutation,\n",
    "         date = lambda x: pd.to_datetime(x.date_mutation),\n",
    "         surface_batiment = lambda x: x.groupby('adresse_date')['surface'].transform('sum'))\n",
    " .assign(prix_mcarre = lambda x: x.prix_vf / x.surface_batiment,\n",
    "         prix = lambda x: x.prix_mcarre * x.surface)\n",
    " .query(\"code_type_local != 4 & prix < 10000000 & prix_mcarre < 30000 & prix_mcarre > 300\")\n",
    " )"
   ]
  },
  {
   "cell_type": "markdown",
   "metadata": {},
   "source": [
    "We visualize the distribution to see that it looks ok."
   ]
  },
  {
   "cell_type": "code",
   "execution_count": 178,
   "metadata": {},
   "outputs": [
    {
     "data": {
      "text/plain": [
       "<seaborn.axisgrid.FacetGrid at 0x255ccf561c0>"
      ]
     },
     "execution_count": 178,
     "metadata": {},
     "output_type": "execute_result"
    },
    {
     "data": {
      "image/png": "[encoded data removed]",
      "text/plain": [
       "<Figure size 360x360 with 1 Axes>"
      ]
     },
     "metadata": {
      "needs_background": "light"
     },
     "output_type": "display_data"
    }
   ],
   "source": [
    "sns.displot(dvf, x='prix_mcarre')"
   ]
  },
  {
   "cell_type": "code",
   "execution_count": 182,
   "metadata": {},
   "outputs": [
    {
     "data": {
      "text/html": [
       "<div>\n",
       "<style scoped>\n",
       "    .dataframe tbody tr th:only-of-type {\n",
       "        vertical-align: middle;\n",
       "    }\n",
       "\n",
       "    .dataframe tbody tr th {\n",
       "        vertical-align: top;\n",
       "    }\n",
       "\n",
       "    .dataframe thead th {\n",
       "        text-align: right;\n",
       "    }\n",
       "</style>\n",
       "<table border=\"1\" class=\"dataframe\">\n",
       "  <thead>\n",
       "    <tr style=\"text-align: right;\">\n",
       "      <th></th>\n",
       "      <th>year</th>\n",
       "      <th>prix_mcarre_paris</th>\n",
       "    </tr>\n",
       "  </thead>\n",
       "  <tbody>\n",
       "    <tr>\n",
       "      <th>0</th>\n",
       "      <td>2016</td>\n",
       "      <td>8187.329225</td>\n",
       "    </tr>\n",
       "    <tr>\n",
       "      <th>1</th>\n",
       "      <td>2017</td>\n",
       "      <td>8788.420875</td>\n",
       "    </tr>\n",
       "    <tr>\n",
       "      <th>2</th>\n",
       "      <td>2018</td>\n",
       "      <td>9402.870890</td>\n",
       "    </tr>\n",
       "    <tr>\n",
       "      <th>3</th>\n",
       "      <td>2019</td>\n",
       "      <td>10127.756563</td>\n",
       "    </tr>\n",
       "    <tr>\n",
       "      <th>4</th>\n",
       "      <td>2020</td>\n",
       "      <td>10753.194641</td>\n",
       "    </tr>\n",
       "  </tbody>\n",
       "</table>\n",
       "</div>"
      ],
      "text/plain": [
       "   year  prix_mcarre_paris\n",
       "0  2016        8187.329225\n",
       "1  2017        8788.420875\n",
       "2  2018        9402.870890\n",
       "3  2019       10127.756563\n",
       "4  2020       10753.194641"
      ]
     },
     "execution_count": 182,
     "metadata": {},
     "output_type": "execute_result"
    }
   ],
   "source": [
    "# Check average squared meter price in Paris:\n",
    "dvf.query('code_departement == 75').groupby('year', as_index=False).agg(prix_mcarre_paris=('prix_mcarre', 'mean'))"
   ]
  },
  {
   "cell_type": "code",
   "execution_count": 179,
   "metadata": {},
   "outputs": [],
   "source": [
    "# We save o a csv file\n",
    "# dvf.to_csv('dvf-clean-work.csv')"
   ]
  }
 ],
 "metadata": {
  "kernelspec": {
   "display_name": "Python 3",
   "language": "python",
   "name": "python3"
  },
  "language_info": {
   "codemirror_mode": {
    "name": "ipython",
    "version": 3
   },
   "file_extension": ".py",
   "mimetype": "text/x-python",
   "name": "python",
   "nbconvert_exporter": "python",
   "pygments_lexer": "ipython3",
   "version": "3.9.4"
  }
 },
 "nbformat": 4,
 "nbformat_minor": 4
}
