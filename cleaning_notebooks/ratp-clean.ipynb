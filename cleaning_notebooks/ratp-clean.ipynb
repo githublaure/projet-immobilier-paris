{
 "cells": [
  {
   "cell_type": "code",
   "execution_count": 155,
   "id": "b61f09c8-5a92-4db7-968f-0ca6ae8141c3",
   "metadata": {},
   "outputs": [],
   "source": [
    "import pandas as pd\n",
    "import numpy as np\n",
    "from janitor import clean_names\n",
    "import re"
   ]
  },
  {
   "cell_type": "code",
   "execution_count": 156,
   "id": "3be28b6d-aa94-46e4-99d7-82aa4ac88ed3",
   "metadata": {},
   "outputs": [],
   "source": [
    "ratp = pd.read_csv('accessibilite-des-gares-et-stations-metro-et-rer-ratp.csv', sep=';')"
   ]
  },
  {
   "cell_type": "code",
   "execution_count": 157,
   "id": "87daf626-cce9-45bc-9f41-934451baaff3",
   "metadata": {},
   "outputs": [],
   "source": [
    "ratp2 = pd.read_csv('positions-geographiques-des-stations-du-reseau-ratp.csv', sep=';')"
   ]
  },
  {
   "cell_type": "code",
   "execution_count": 158,
   "id": "908e115f-d61d-4790-a96d-f8ce54777ae7",
   "metadata": {},
   "outputs": [],
   "source": [
    "ratp2['code_postal'] = ratp2.stop_desc.apply(lambda x: re.search('\\d+$', x).group(0))\n",
    "ratp2['code_departement'] = ratp2.code_postal.apply(lambda x: re.search('^\\d{2}', x).group(0)).astype('int')"
   ]
  },
  {
   "cell_type": "code",
   "execution_count": 166,
   "id": "3a78d410-1648-4f95-9746-a6f4dfa18568",
   "metadata": {},
   "outputs": [],
   "source": [
    "ratp_merge = (pd.merge(ratp2, ratp, left_on='stop_id', right_on='idptar')\n",
    "              .query('code_departement in [75, 92, 93, 94]')\n",
    "              .drop_duplicates(subset='stop_name')\n",
    "             )"
   ]
  },
  {
   "cell_type": "code",
   "execution_count": 170,
   "id": "112bf36a-f391-47be-a485-c11efc321934",
   "metadata": {},
   "outputs": [],
   "source": [
    "ratp_geocoordinates = ratp_merge.loc[:, ['stop_id', 'code_departement', 'code_postal', 'stop_lat',  'stop_lon']]                       "
   ]
  },
  {
   "cell_type": "code",
   "execution_count": 171,
   "id": "291ff5ef-0c43-4f0f-9847-06abb014e6b3",
   "metadata": {},
   "outputs": [],
   "source": [
    "ratp_gare_count = (ratp_merge\n",
    "                  .groupby('code_postal', as_index=False)[['stop_id']]\n",
    "                  .count()\n",
    "                  .rename(columns={'code_postal':'code_postal', 'stop_id':'n_gare_ratp'})\n",
    "                  )"
   ]
  },
  {
   "cell_type": "code",
   "execution_count": 174,
   "id": "4ff1553d-7dd3-4ce8-9e91-20752b02f21c",
   "metadata": {},
   "outputs": [
    {
     "data": {
      "text/plain": [
       "Index(['stop_id', 'code_departement', 'code_postal', 'stop_lat', 'stop_lon'], dtype='object')"
      ]
     },
     "execution_count": 174,
     "metadata": {},
     "output_type": "execute_result"
    }
   ],
   "source": [
    "ratp_geocoordinates.columns"
   ]
  },
  {
   "cell_type": "code",
   "execution_count": 175,
   "id": "71facc9e-8662-41cf-b089-90cd754d22bf",
   "metadata": {},
   "outputs": [
    {
     "data": {
      "text/plain": [
       "Index(['code_postal', 'n_gare_ratp'], dtype='object')"
      ]
     },
     "execution_count": 175,
     "metadata": {},
     "output_type": "execute_result"
    }
   ],
   "source": [
    "ratp_gare_count.columns"
   ]
  },
  {
   "cell_type": "code",
   "execution_count": 176,
   "id": "8d48820b-b8ba-49cc-8ffa-f3e3c5d44bb3",
   "metadata": {},
   "outputs": [],
   "source": [
    "ratp_geocoordinates.to_csv('ratp-geocoordinates.csv')\n",
    "ratp_gare_count.to_csv('ratp-gare-count.csv')"
   ]
  },
  {
   "cell_type": "code",
   "execution_count": null,
   "id": "9c09e439-cac5-4e74-8451-b5b71c7158eb",
   "metadata": {},
   "outputs": [],
   "source": []
  }
 ],
 "metadata": {
  "kernelspec": {
   "display_name": "Python 3",
   "language": "python",
   "name": "python3"
  },
  "language_info": {
   "codemirror_mode": {
    "name": "ipython",
    "version": 3
   },
   "file_extension": ".py",
   "mimetype": "text/x-python",
   "name": "python",
   "nbconvert_exporter": "python",
   "pygments_lexer": "ipython3",
   "version": "3.9.2"
  }
 },
 "nbformat": 4,
 "nbformat_minor": 5
}
