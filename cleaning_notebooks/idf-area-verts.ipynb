{
 "cells": [
  {
   "cell_type": "code",
   "execution_count": 10,
   "id": "68f3bca9-979a-4305-8c45-80c8c3720bc0",
   "metadata": {},
   "outputs": [],
   "source": [
    "import pandas as pd\n",
    "import numpy as np\n",
    "from janitor import clean_names\n",
    "import re"
   ]
  },
  {
   "cell_type": "code",
   "execution_count": 2,
   "id": "b4298047-4968-46da-8f3c-7f049cc2c937",
   "metadata": {},
   "outputs": [],
   "source": [
    "verts = pd.read_csv('espaces-verts-et-boises-surfaciques-ouverts-ou-en-projets-douverture-au-public.csv', sep=';')"
   ]
  },
  {
   "cell_type": "code",
   "execution_count": 28,
   "id": "ed32088f-4cba-42ee-a35e-0f378ddd62cb",
   "metadata": {},
   "outputs": [
    {
     "data": {
      "text/plain": [
       "Index(['Geo Point', 'Geo Shape', 'objectid', 'insee', 'numero', 'nom',\n",
       "       'surfdonnee', 'statutouv', 'statouvlib', 'entreepay', 'entpaylib',\n",
       "       'dateacquis', 'datacqlib', 'dateouvert', 'datouvlib', 'propriet',\n",
       "       'proplib', 'nomprop', 'maitouvrag', 'mouvrlib', 'maitoeuvre',\n",
       "       'moeuvrlib', 'situation', 'situatlib', 'dateinfo', 'sourceinfo',\n",
       "       'descript', 'surfeneau', 'numdep', 'parteneau', 'surftotha',\n",
       "       'categgene', 'catgenlib', 'categorie', 'categlib', 'surftotouv',\n",
       "       'id_bev', 'nomcom', 'certif', 'certiflib', 'nommouvra', 'nommoe',\n",
       "       'shape_leng', 'propgene', 'propgeneli', 'emplacemen', 'objectid_1',\n",
       "       'st_areasha', 'st_lengths'],\n",
       "      dtype='object')"
      ]
     },
     "execution_count": 28,
     "metadata": {},
     "output_type": "execute_result"
    }
   ],
   "source": [
    "verts.columns"
   ]
  },
  {
   "cell_type": "code",
   "execution_count": 49,
   "id": "4bda7444-ebe2-4440-8e48-5fda631508a2",
   "metadata": {},
   "outputs": [],
   "source": [
    "verts2 = verts.loc[:, ['insee', 'nomcom', 'surftotha', 'nom']]"
   ]
  },
  {
   "cell_type": "code",
   "execution_count": 50,
   "id": "ce108072-060c-4d84-8fb0-1027e3769133",
   "metadata": {},
   "outputs": [],
   "source": [
    "verts2['code_departement'] = verts2.insee.apply(lambda x: re.search('^\\d{2}', str(x)).group(0)).astype('int')"
   ]
  },
  {
   "cell_type": "code",
   "execution_count": 57,
   "id": "e3fc7a34-9e7c-4275-9a87-eee666756b9a",
   "metadata": {},
   "outputs": [
    {
     "data": {
      "text/html": [
       "<div>\n",
       "<style scoped>\n",
       "    .dataframe tbody tr th:only-of-type {\n",
       "        vertical-align: middle;\n",
       "    }\n",
       "\n",
       "    .dataframe tbody tr th {\n",
       "        vertical-align: top;\n",
       "    }\n",
       "\n",
       "    .dataframe thead th {\n",
       "        text-align: right;\n",
       "    }\n",
       "</style>\n",
       "<table border=\"1\" class=\"dataframe\">\n",
       "  <thead>\n",
       "    <tr style=\"text-align: right;\">\n",
       "      <th></th>\n",
       "      <th>insee</th>\n",
       "      <th>nomcom</th>\n",
       "      <th>surftotha</th>\n",
       "      <th>nom</th>\n",
       "      <th>code_departement</th>\n",
       "    </tr>\n",
       "  </thead>\n",
       "  <tbody>\n",
       "    <tr>\n",
       "      <th>1899</th>\n",
       "      <td>75119</td>\n",
       "      <td>Paris 19e  Arrondissement</td>\n",
       "      <td>24.84</td>\n",
       "      <td>Parc des Buttes-Chaumont</td>\n",
       "      <td>75</td>\n",
       "    </tr>\n",
       "    <tr>\n",
       "      <th>7125</th>\n",
       "      <td>75119</td>\n",
       "      <td>Paris 19e  Arrondissement</td>\n",
       "      <td>0.03</td>\n",
       "      <td>Jardin de la Butte Bergeyre</td>\n",
       "      <td>75</td>\n",
       "    </tr>\n",
       "    <tr>\n",
       "      <th>8243</th>\n",
       "      <td>75119</td>\n",
       "      <td>Paris 19e  Arrondissement</td>\n",
       "      <td>0.27</td>\n",
       "      <td>Jardin de la Butte Bergeyre</td>\n",
       "      <td>75</td>\n",
       "    </tr>\n",
       "    <tr>\n",
       "      <th>9079</th>\n",
       "      <td>75119</td>\n",
       "      <td>Paris 19e  Arrondissement</td>\n",
       "      <td>4.71</td>\n",
       "      <td>Parc de la Butte du Chapeau rouge</td>\n",
       "      <td>75</td>\n",
       "    </tr>\n",
       "  </tbody>\n",
       "</table>\n",
       "</div>"
      ],
      "text/plain": [
       "      insee                     nomcom  surftotha  \\\n",
       "1899  75119  Paris 19e  Arrondissement      24.84   \n",
       "7125  75119  Paris 19e  Arrondissement       0.03   \n",
       "8243  75119  Paris 19e  Arrondissement       0.27   \n",
       "9079  75119  Paris 19e  Arrondissement       4.71   \n",
       "\n",
       "                                    nom  code_departement  \n",
       "1899           Parc des Buttes-Chaumont                75  \n",
       "7125        Jardin de la Butte Bergeyre                75  \n",
       "8243        Jardin de la Butte Bergeyre                75  \n",
       "9079  Parc de la Butte du Chapeau rouge                75  "
      ]
     },
     "execution_count": 57,
     "metadata": {},
     "output_type": "execute_result"
    }
   ],
   "source": [
    "verts2.query('insee == 75119 & nom.str.contains(\"Butte\")')"
   ]
  },
  {
   "cell_type": "code",
   "execution_count": 74,
   "id": "307a09a5-f397-4853-b32d-ff96c4d7eacc",
   "metadata": {},
   "outputs": [],
   "source": [
    "verts = (verts2\n",
    " .query('code_departement in [75, 92, 93, 94] & surftotha > 1')\n",
    " .assign(code_postal = lambda x: x.insee.astype('str').str.replace('751', '750'))\n",
    " .groupby('code_postal', as_index=False)\n",
    " .agg({'nomcom':'count',\n",
    "       'surftotha':'mean'})\n",
    " .rename(columns={\"code_postal\":\"code_postal\",\n",
    "                  \"nomcom\":'n_area_verts',\n",
    "                  'surftotha':'avg_area_ha'})\n",
    ")"
   ]
  },
  {
   "cell_type": "code",
   "execution_count": 75,
   "id": "182c81c3-9d6d-4bd0-9e99-e47da350b4e8",
   "metadata": {},
   "outputs": [],
   "source": [
    "verts.to_csv(\"dataidf-area-verts.csv\")"
   ]
  },
  {
   "cell_type": "code",
   "execution_count": 76,
   "id": "00f30c83-2819-4caf-a942-7a175eeafe32",
   "metadata": {},
   "outputs": [
    {
     "name": "stdout",
     "output_type": "stream",
     "text": [
      "<class 'pandas.core.frame.DataFrame'>\n",
      "Int64Index: 134 entries, 0 to 133\n",
      "Data columns (total 3 columns):\n",
      " #   Column        Non-Null Count  Dtype  \n",
      "---  ------        --------------  -----  \n",
      " 0   code_postal   134 non-null    object \n",
      " 1   n_area_verts  134 non-null    int64  \n",
      " 2   avg_area_ha   134 non-null    float64\n",
      "dtypes: float64(1), int64(1), object(1)\n",
      "memory usage: 4.2+ KB\n"
     ]
    }
   ],
   "source": [
    "verts.info()"
   ]
  },
  {
   "cell_type": "code",
   "execution_count": null,
   "id": "34d75fc8-b2f0-4b15-b2da-ad9e3bf14e07",
   "metadata": {},
   "outputs": [],
   "source": []
  }
 ],
 "metadata": {
  "kernelspec": {
   "display_name": "Python 3",
   "language": "python",
   "name": "python3"
  },
  "language_info": {
   "codemirror_mode": {
    "name": "ipython",
    "version": 3
   },
   "file_extension": ".py",
   "mimetype": "text/x-python",
   "name": "python",
   "nbconvert_exporter": "python",
   "pygments_lexer": "ipython3",
   "version": "3.9.2"
  }
 },
 "nbformat": 4,
 "nbformat_minor": 5
}
