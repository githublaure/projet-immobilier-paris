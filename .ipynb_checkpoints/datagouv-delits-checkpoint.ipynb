{
 "cells": [
  {
   "cell_type": "code",
   "execution_count": 13,
   "id": "f9c40d89-63ef-46a8-bc3c-6f3c01deec89",
   "metadata": {},
   "outputs": [],
   "source": [
    "import pandas as pd\n",
    "import numpy as np\n",
    "import re"
   ]
  },
  {
   "cell_type": "code",
   "execution_count": 29,
   "id": "47744ed1-5855-4da0-9c84-ebc5a2c66990",
   "metadata": {},
   "outputs": [],
   "source": [
    "delit16 = pd.read_excel('crimes-et-delits-enregistres-par-les-services-de-gendarmerie-et-de-police-depuis-2012(1).xlsx', sheet_name='Services PN 2016', header=2)"
   ]
  },
  {
   "cell_type": "code",
   "execution_count": 32,
   "id": "19a7f371-9f12-420a-958d-997bbbb2811f",
   "metadata": {},
   "outputs": [
    {
     "data": {
      "text/plain": [
       "['DTSP75 01ER ARRONDISSEMENT',\n",
       " 'DTSP75 02EME ARRONDISSEMENT',\n",
       " 'DTSP75 03EME ARRONDISSEMENT',\n",
       " 'DTSP75 04EME ARRONDISSEMENT',\n",
       " 'DTSP75 05EME ET 06EME ARRONDISSEMENTS',\n",
       " 'DTSP75 06EME ARRONDISSEMENT',\n",
       " 'DTSP75 07EME ARRONDISSEMENT',\n",
       " 'DTSP75 08EME ARRONDISSEMENT',\n",
       " 'DTSP75 09EME ARRONDISSEMENT',\n",
       " 'DTSP75 10EME ARRONDISSEMENT',\n",
       " 'DTSP75 11EME ARRONDISSEMENT',\n",
       " 'DTSP75 12EME ARRONDISSEMENT',\n",
       " 'DTSP75 13EME ARRONDISSEMENT',\n",
       " 'DTSP75 14EME ARRONDISSEMENT',\n",
       " 'DTSP75 15EME ARRONDISSEMENT',\n",
       " 'DTSP75 16EME ARRONDISSEMENT',\n",
       " 'DTSP75 17EME ARRONDISSEMENT',\n",
       " 'DTSP75 18EME ARRONDISSEMENT',\n",
       " 'DTSP75 19EME ARRONDISSEMENT',\n",
       " 'DTSP75 20EME ARRONDISSEMENT']"
      ]
     },
     "execution_count": 32,
     "metadata": {},
     "output_type": "execute_result"
    }
   ],
   "source": [
    "columns_paris = [x for x in delit16.columns.values if 'ARRONDISSEMENT' in x]\n",
    "columns_paris"
   ]
  },
  {
   "cell_type": "code",
   "execution_count": 34,
   "id": "6de6eb4d-b319-4992-9fca-fdc0cd74d685",
   "metadata": {},
   "outputs": [],
   "source": [
    "delit_paris_2016 = delit16.loc[:, columns_paris]"
   ]
  },
  {
   "cell_type": "code",
   "execution_count": 48,
   "id": "16b43baf-8695-40f8-90e2-fc7d1aaafd77",
   "metadata": {},
   "outputs": [],
   "source": [
    "columns_929394 = [x for x in delit16.columns.values if (any(w in x for w in ['DTSP92', 'DTSP93', 'DTSP94']))]"
   ]
  },
  {
   "cell_type": "code",
   "execution_count": 49,
   "id": "43e8c970-91d4-4aad-a63e-168d6b005623",
   "metadata": {},
   "outputs": [],
   "source": [
    "delit_929394_2016 = delit16.loc[:, columns_929394]"
   ]
  },
  {
   "cell_type": "code",
   "execution_count": 65,
   "id": "4ba7535c-5600-4a61-9b93-3bf9f4707c2d",
   "metadata": {},
   "outputs": [
    {
     "data": {
      "text/plain": [
       "DTSP93 ST DENIS                  13714\n",
       "DTSP93 AULNAY SOUS BOIS          10795\n",
       "DTSP94 KREMLIN BICETRE           10222\n",
       "DTSP93 AUBERVILLIERS              9286\n",
       "DTSP94 CRETEIL                    8946\n",
       "DTSP93 BOBIGNY                    8844\n",
       "DTSP93 LES LILAS                  8622\n",
       "DTSP92 BOULOGNE BILLANCOURT       8481\n",
       "DTSP93 MONTREUIL                  8283\n",
       "DTSP94 L'HAY LES ROSES            7358\n",
       "DTSP93 LA COURNEUVE               7218\n",
       "DTSP92 NANTERRE                   6782\n",
       "DTSP92 LA DEFENSE                 6537\n",
       "DTSP93 BONDY                      6018\n",
       "DTSP93 PANTIN                     5800\n",
       "DTSP92 LEVALLOIS PERRET           5725\n",
       "DTSP93 STAINS                     5604\n",
       "DTSP94 VITRY SUR SEINE            5514\n",
       "DTSP92 ANTONY                     5415\n",
       "DTSP93 VILLEPINTE                 5381\n",
       "DTSP93 ST OUEN                    5307\n",
       "DTSP92 NEUILLY SUR SEINE          5249\n",
       "DTSP92 COLOMBES                   5228\n",
       "DTSP93 DRANCY                     5103\n",
       "DTSP93 EPINAY SUR SEINE           5098\n",
       "DTSP92 ASNIERES SUR SEINE         5038\n",
       "DTSP94 CHOISY LE ROI              5012\n",
       "DTSP93 NOISY LE GRAND             4884\n",
       "DTSP92 MONTROUGE                  4870\n",
       "DTSP92 CLICHY LA GARENNE          4860\n",
       "DTSP92 ISSY LES MOULINEAUX        4645\n",
       "DTSP94 CHENNEVIERES SUR MARNE     4491\n",
       "DTSP94 VILLENEUVE ST GEORGES      4466\n",
       "DTSP92 CLAMART                    4426\n",
       "DTSP94 IVRY SUR SEINE             4368\n",
       "DTSP94 NOGENT SUR MARNE           4325\n",
       "DTSP94 BOISSY ST LEGER            4316\n",
       "DTSP92 CHATENAY MALABRY           4256\n",
       "DTSP93 CLICHY MONTFERMEIL         4231\n",
       "DTSP94 CHAMPIGNY SUR MARNE        4140\n",
       "DTSP93 ROSNY SOUS BOIS            4110\n",
       "DTSP94 VINCENNES                  4058\n",
       "DTSP93 LIVRY GARGAN               3851\n",
       "DTSP93 LE BLANC MESNIL            3810\n",
       "DTSP94 FONTENAY SOUS BOIS         3794\n",
       "DTSP92 VANVES                     3687\n",
       "DTSP92 RUEIL MALMAISON            3671\n",
       "DTSP92 GENNEVILLIERS              3644\n",
       "DTSP94 MAISONS ALFORT             3608\n",
       "DTSP94 ST MAUR DES FOSSES         3384\n",
       "dtype: int64"
      ]
     },
     "execution_count": 65,
     "metadata": {},
     "output_type": "execute_result"
    }
   ],
   "source": [
    "delit_929394_2016.sum(axis=0).sort_values(ascending=False).head(50)"
   ]
  },
  {
   "cell_type": "code",
   "execution_count": 86,
   "id": "285fc57c-332b-490a-85c3-ccc7f305e115",
   "metadata": {},
   "outputs": [],
   "source": [
    "names = delit16.iloc[:, 1].to_frame()\n",
    "names.columns = ['name']"
   ]
  },
  {
   "cell_type": "code",
   "execution_count": 146,
   "id": "8b881413-1a28-4781-8873-81b44cfcbd33",
   "metadata": {},
   "outputs": [
    {
     "data": {
      "text/plain": [
       "DTSP75 18EME ARRONDISSEMENT              17988\n",
       "DTSP93 ST DENIS                          13714\n",
       "DTSP75 19EME ARRONDISSEMENT              13678\n",
       "DTSP75 15EME ARRONDISSEMENT              13312\n",
       "DTSP75 16EME ARRONDISSEMENT              11287\n",
       "DTSP75 08EME ARRONDISSEMENT              11052\n",
       "DTSP75 05EME ET 06EME ARRONDISSEMENTS    10867\n",
       "DTSP75 17EME ARRONDISSEMENT              10535\n",
       "DTSP75 20EME ARRONDISSEMENT              10155\n",
       "DTSP93 AULNAY SOUS BOIS                  10135\n",
       "dtype: object"
      ]
     },
     "execution_count": 146,
     "metadata": {},
     "output_type": "execute_result"
    }
   ],
   "source": [
    "(pd.concat([pd.concat([names, delit_paris_2016], 1), delit_929394_2016], 1)\n",
    " .query('name != \"Autres vols simples contre des particuliers dans des locaux ou lieux publics\"')\n",
    ").sum()[1:].sort_values(ascending=False).head(10)"
   ]
  },
  {
   "cell_type": "code",
   "execution_count": 88,
   "id": "8f15da78-8632-4ecb-a7ff-9accc0149dd9",
   "metadata": {},
   "outputs": [],
   "source": [
    "eda1 = pd.concat([names, delit_paris_2016], axis=1)"
   ]
  },
  {
   "cell_type": "code",
   "execution_count": 103,
   "id": "01b6f476-e154-4bad-8c88-874fc7c93231",
   "metadata": {},
   "outputs": [],
   "source": [
    "eda2 = eda1.transpose()"
   ]
  },
  {
   "cell_type": "code",
   "execution_count": 106,
   "id": "40165bf0-af6b-4449-9132-502bb384612f",
   "metadata": {},
   "outputs": [],
   "source": [
    "eda2.columns = eda2.iloc[0, :]"
   ]
  },
  {
   "cell_type": "code",
   "execution_count": 111,
   "id": "c2e80f7d-168f-4314-8dfb-b64566853af7",
   "metadata": {},
   "outputs": [],
   "source": [
    "eda2 = eda2.iloc[1:, :].apply(pd.to_numeric)"
   ]
  },
  {
   "cell_type": "code",
   "execution_count": 142,
   "id": "3f46df39-9428-4de2-9571-9b80125c8bdb",
   "metadata": {},
   "outputs": [
    {
     "data": {
      "text/plain": [
       "name\n",
       "Autres vols simples contre des particuliers dans des locaux ou lieux publics    61216\n",
       "Vols à la tire                                                                  21693\n",
       "Vols à la roulotte                                                              12379\n",
       "Falsification et usages de chèques volés                                        10887\n",
       "Escroqueries et abus de confiance                                               10677\n",
       "                                                                                ...  \n",
       "Index non utilisé                                                                   0\n",
       "Index non utilisé                                                                   0\n",
       "Marchandage - prêt de main d'oeuvre                                                 0\n",
       "Homicides pour voler et à l'occasion de vols                                        0\n",
       "Vols à main armée contre des entreprises de transports de fonds                     0\n",
       "Length: 107, dtype: int64"
      ]
     },
     "execution_count": 142,
     "metadata": {},
     "output_type": "execute_result"
    }
   ],
   "source": [
    "eda2.sum(numeric_only=True).sort_values(ascending=False)"
   ]
  },
  {
   "cell_type": "code",
   "execution_count": 151,
   "id": "a071cc3c-55c1-4de8-a4d8-e772b2104997",
   "metadata": {},
   "outputs": [],
   "source": [
    "from janitor import clean_names"
   ]
  },
  {
   "cell_type": "code",
   "execution_count": 171,
   "id": "78d13acc-8713-4db7-b184-77ab3c1a3659",
   "metadata": {},
   "outputs": [],
   "source": [
    "pop = pd.read_csv('code-postal-code-insee-2015.csv', sep=';').clean_names()"
   ]
  },
  {
   "cell_type": "code",
   "execution_count": 174,
   "id": "866e8440-4fdf-4f2a-a4a0-0086b1874136",
   "metadata": {},
   "outputs": [
    {
     "data": {
      "text/plain": [
       "Index(['geo_point', 'geo_shape', 'id_geofla', 'code_com', 'insee_com',\n",
       "       'nom_com', 'statut', 'x_chf_lieu', 'y_chf_lieu', 'x_centroid',\n",
       "       'y_centroid', 'z_moyen', 'superficie', 'population', 'code_cant',\n",
       "       'code_arr', 'code_dept', 'nom_dept', 'code_reg', 'nom_reg', 'ligne_5',\n",
       "       'libelle_acheminement', 'code_postal', 'nom_commune',\n",
       "       'coordonnees_gps'],\n",
       "      dtype='object')"
      ]
     },
     "execution_count": 174,
     "metadata": {},
     "output_type": "execute_result"
    }
   ],
   "source": [
    "pop.columns"
   ]
  },
  {
   "cell_type": "code",
   "execution_count": 180,
   "id": "4822a333-ed3d-4a8c-b555-c813531da073",
   "metadata": {},
   "outputs": [],
   "source": [
    "pop = (pop\n",
    " .query('code_postal.astype(\"int\").astype(\"str\").str.contains(\"^93|^92|^94|^75\")')\n",
    " .loc[:, ['code_postal', 'nom_com', 'population']]\n",
    ")"
   ]
  },
  {
   "cell_type": "code",
   "execution_count": 183,
   "id": "3acff4cd-a13b-454f-a643-361e1b5e9227",
   "metadata": {},
   "outputs": [
    {
     "data": {
      "text/html": [
       "<div>\n",
       "<style scoped>\n",
       "    .dataframe tbody tr th:only-of-type {\n",
       "        vertical-align: middle;\n",
       "    }\n",
       "\n",
       "    .dataframe tbody tr th {\n",
       "        vertical-align: top;\n",
       "    }\n",
       "\n",
       "    .dataframe thead th {\n",
       "        text-align: right;\n",
       "    }\n",
       "</style>\n",
       "<table border=\"1\" class=\"dataframe\">\n",
       "  <thead>\n",
       "    <tr style=\"text-align: right;\">\n",
       "      <th></th>\n",
       "      <th>code_postal</th>\n",
       "      <th>nom_com</th>\n",
       "      <th>population</th>\n",
       "    </tr>\n",
       "  </thead>\n",
       "  <tbody>\n",
       "    <tr>\n",
       "      <th>279</th>\n",
       "      <td>9400.0</td>\n",
       "      <td>SAURAT</td>\n",
       "      <td>668</td>\n",
       "    </tr>\n",
       "    <tr>\n",
       "      <th>297</th>\n",
       "      <td>9200.0</td>\n",
       "      <td>MONTJOIE-EN-COUSERANS</td>\n",
       "      <td>1053</td>\n",
       "    </tr>\n",
       "    <tr>\n",
       "      <th>322</th>\n",
       "      <td>9460.0</td>\n",
       "      <td>ROUZE</td>\n",
       "      <td>90</td>\n",
       "    </tr>\n",
       "    <tr>\n",
       "      <th>323</th>\n",
       "      <td>9270.0</td>\n",
       "      <td>MAZERES</td>\n",
       "      <td>3778</td>\n",
       "    </tr>\n",
       "    <tr>\n",
       "      <th>878</th>\n",
       "      <td>9240.0</td>\n",
       "      <td>DURBAN-SUR-ARIZE</td>\n",
       "      <td>178</td>\n",
       "    </tr>\n",
       "    <tr>\n",
       "      <th>...</th>\n",
       "      <td>...</td>\n",
       "      <td>...</td>\n",
       "      <td>...</td>\n",
       "    </tr>\n",
       "    <tr>\n",
       "      <th>39145</th>\n",
       "      <td>9230.0</td>\n",
       "      <td>TOURTOUSE</td>\n",
       "      <td>151</td>\n",
       "    </tr>\n",
       "    <tr>\n",
       "      <th>39157</th>\n",
       "      <td>9250.0</td>\n",
       "      <td>AXIAT</td>\n",
       "      <td>35</td>\n",
       "    </tr>\n",
       "    <tr>\n",
       "      <th>39204</th>\n",
       "      <td>7590.0</td>\n",
       "      <td>BORNE</td>\n",
       "      <td>38</td>\n",
       "    </tr>\n",
       "    <tr>\n",
       "      <th>39509</th>\n",
       "      <td>9310.0</td>\n",
       "      <td>LARNAT</td>\n",
       "      <td>21</td>\n",
       "    </tr>\n",
       "    <tr>\n",
       "      <th>39653</th>\n",
       "      <td>9300.0</td>\n",
       "      <td>VILLENEUVE-D'OLMES</td>\n",
       "      <td>1057</td>\n",
       "    </tr>\n",
       "  </tbody>\n",
       "</table>\n",
       "<p>342 rows × 3 columns</p>\n",
       "</div>"
      ],
      "text/plain": [
       "       code_postal                nom_com  population\n",
       "279         9400.0                 SAURAT         668\n",
       "297         9200.0  MONTJOIE-EN-COUSERANS        1053\n",
       "322         9460.0                  ROUZE          90\n",
       "323         9270.0                MAZERES        3778\n",
       "878         9240.0       DURBAN-SUR-ARIZE         178\n",
       "...            ...                    ...         ...\n",
       "39145       9230.0              TOURTOUSE         151\n",
       "39157       9250.0                  AXIAT          35\n",
       "39204       7590.0                  BORNE          38\n",
       "39509       9310.0                 LARNAT          21\n",
       "39653       9300.0     VILLENEUVE-D'OLMES        1057\n",
       "\n",
       "[342 rows x 3 columns]"
      ]
     },
     "execution_count": 183,
     "metadata": {},
     "output_type": "execute_result"
    }
   ],
   "source": []
  },
  {
   "cell_type": "code",
   "execution_count": 182,
   "id": "06bf12fe-ff54-48e4-bac8-cd100704805f",
   "metadata": {},
   "outputs": [],
   "source": [
    "pop.to_csv(\"insee-population2015.csv\")"
   ]
  },
  {
   "cell_type": "code",
   "execution_count": null,
   "id": "eccb703c-b253-44c0-b90e-da2a70898438",
   "metadata": {},
   "outputs": [],
   "source": [
    "pop.to_csv('insee')"
   ]
  }
 ],
 "metadata": {
  "kernelspec": {
   "display_name": "Python 3",
   "language": "python",
   "name": "python3"
  },
  "language_info": {
   "codemirror_mode": {
    "name": "ipython",
    "version": 3
   },
   "file_extension": ".py",
   "mimetype": "text/x-python",
   "name": "python",
   "nbconvert_exporter": "python",
   "pygments_lexer": "ipython3",
   "version": "3.9.2"
  }
 },
 "nbformat": 4,
 "nbformat_minor": 5
}
