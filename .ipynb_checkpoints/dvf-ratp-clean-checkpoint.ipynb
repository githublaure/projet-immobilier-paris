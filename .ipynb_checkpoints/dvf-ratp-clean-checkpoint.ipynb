{
 "cells": [
  {
   "cell_type": "code",
   "execution_count": 1,
   "id": "a81eff57-8e7e-44f3-b48d-3f91e9f68106",
   "metadata": {},
   "outputs": [],
   "source": [
    "import pandas as pd\n",
    "import numpy as np\n",
    "from geopy import distance"
   ]
  },
  {
   "cell_type": "code",
   "execution_count": 2,
   "id": "c680aa70-ca19-4ed0-907e-6e3c28e29768",
   "metadata": {},
   "outputs": [
    {
     "name": "stderr",
     "output_type": "stream",
     "text": [
      "C:\\Users\\JouJo\\Anaconda3\\envs\\Python3_9\\lib\\site-packages\\IPython\\core\\interactiveshell.py:3165: DtypeWarning: Columns (17) have mixed types.Specify dtype option on import or set low_memory=False.\n",
      "  has_raised = await self.run_ast_nodes(code_ast.body, cell_name,\n"
     ]
    }
   ],
   "source": [
    "dvf_geocoordinates = pd.read_csv('dvf-geocoordinates.csv')"
   ]
  },
  {
   "cell_type": "code",
   "execution_count": 3,
   "id": "cac4880f-7106-4eec-86dc-4ad4442e93d9",
   "metadata": {},
   "outputs": [],
   "source": [
    "dvf_geocoordinates = dvf_geocoordinates.dropna(subset=['adresse'])"
   ]
  },
  {
   "cell_type": "code",
   "execution_count": 4,
   "id": "2e253af6-4008-4dc2-87d4-22b961e2db82",
   "metadata": {},
   "outputs": [],
   "source": [
    "ratp = pd.read_csv('ratp-geocoordinates.csv').query(\"stop_lat.notna()\")"
   ]
  },
  {
   "cell_type": "code",
   "execution_count": 5,
   "id": "58e53fb2-732e-4e05-8393-f8a7df22b0b6",
   "metadata": {},
   "outputs": [],
   "source": [
    "ratp_coords = []\n",
    "ratp_index = []\n",
    "for i in ratp.index:\n",
    "    ratp_index.append(i)\n",
    "    lat = ratp.stop_lat[i]\n",
    "    lon = ratp.stop_lon[i]\n",
    "    ratp_coords.append((lat, lon))"
   ]
  },
  {
   "cell_type": "code",
   "execution_count": 6,
   "id": "79aad944-4860-4cdd-9741-5b20dff0f00f",
   "metadata": {},
   "outputs": [],
   "source": [
    "dvf_coords = []\n",
    "for i in dvf_geocoordinates.index:\n",
    "    lat = dvf_geocoordinates.latitude[i]\n",
    "    lon = dvf_geocoordinates.longitude[i]\n",
    "    dvf_coords.append((lat, lon))"
   ]
  },
  {
   "cell_type": "code",
   "execution_count": 7,
   "id": "d8bcfd6d-8170-49b3-b2dc-5217d2a4f87b",
   "metadata": {},
   "outputs": [],
   "source": [
    "def calculate_distance(center, points):\n",
    "    return list(map(lambda x: distance.distance(center, x).km, points))\n",
    "\n",
    "def count_points_in_radius(radius, distances):\n",
    "    return len(list(filter(lambda x: x < radius, distances)))\n",
    "\n",
    "def get_min_distance(distances):\n",
    "    return min(distances)\n",
    "\n",
    "def get_individual_info(center, points):\n",
    "    distances = calculate_distance(center, points)\n",
    "    ngare1 = count_points_in_radius(1, distances)\n",
    "    ngare2 = count_points_in_radius(2, distances)\n",
    "    ngare3 = count_points_in_radius(3, distances)\n",
    "    min_distance = get_min_distance(distances)\n",
    "    return ngare1, ngare2, ngare3, min_distance"
   ]
  },
  {
   "cell_type": "code",
   "execution_count": 8,
   "id": "2e8227fd-f5d8-4602-baf9-071c15614f69",
   "metadata": {},
   "outputs": [],
   "source": [
    "from tqdm import tqdm"
   ]
  },
  {
   "cell_type": "code",
   "execution_count": 9,
   "id": "7d21d2c3-a5a1-47eb-931a-1da9bca97c46",
   "metadata": {},
   "outputs": [
    {
     "name": "stderr",
     "output_type": "stream",
     "text": [
      "100%|███████████████████████████████████████████████████████████████████████| 163363/163363 [12:42:48<00:00,  3.57it/s]"
     ]
    },
    {
     "name": "stdout",
     "output_type": "stream",
     "text": [
      "Wall time: 12h 42min 48s\n"
     ]
    },
    {
     "name": "stderr",
     "output_type": "stream",
     "text": [
      "\n"
     ]
    }
   ],
   "source": [
    "%%time\n",
    "ratp_info = [None] * len(dvf_coords)\n",
    "\n",
    "for i in tqdm(range(len(dvf_coords))):\n",
    "    try:\n",
    "        ratp_info[i] = get_individual_info(dvf_coords[i], ratp_coords)\n",
    "    except:\n",
    "        ratp_info[i] = (np.nan, np.nan, np.nan, np.nan)"
   ]
  },
  {
   "cell_type": "code",
   "execution_count": 11,
   "id": "cc2980d9-c7f0-4f8b-9ced-931f2a234f43",
   "metadata": {},
   "outputs": [],
   "source": [
    "dvf_dist_ratp = (dvf_geocoordinates\n",
    " .loc[:, ['adresse', 'postcode', 'latitude', 'longitude']]\n",
    " .assign(ratp_ngare1 = [x[0] for x in ratp_info],\n",
    "         ratp_ngare2 = [x[1] for x in ratp_info],\n",
    "         ratp_ngare3 = [x[2] for x in ratp_info],\n",
    "         ratp_min_distance = [x[3] for x in ratp_info])\n",
    ")"
   ]
  },
  {
   "cell_type": "code",
   "execution_count": 28,
   "id": "d6b6ca89-a27f-4617-82b7-6907b4535bc3",
   "metadata": {},
   "outputs": [
    {
     "name": "stderr",
     "output_type": "stream",
     "text": [
      "C:\\Users\\JouJo\\Anaconda3\\envs\\Python3_9\\lib\\site-packages\\IPython\\core\\interactiveshell.py:3165: DtypeWarning: Columns (17,24) have mixed types.Specify dtype option on import or set low_memory=False.\n",
      "  has_raised = await self.run_ast_nodes(code_ast.body, cell_name,\n"
     ]
    }
   ],
   "source": [
    "dvf_geocode = pd.read_csv('dvf-data.csv')"
   ]
  },
  {
   "cell_type": "code",
   "execution_count": 29,
   "id": "1d276e37-fcdb-40dc-90bb-f6eb11176c91",
   "metadata": {},
   "outputs": [],
   "source": [
    "dvf_geocode = (dvf_geocode\n",
    " .assign(\n",
    "     nvoie = lambda x: x.no_voie.astype('int').astype('str'),\n",
    "     adresse = lambda x: x.nvoie + ' ' + x.type_de_voie + ' ' + x.voie,\n",
    "     )\n",
    " .loc[:, ['adresse']]\n",
    ")"
   ]
  },
  {
   "cell_type": "code",
   "execution_count": 23,
   "id": "ca67500e-df12-4b7e-a1cc-488f42580d1f",
   "metadata": {},
   "outputs": [],
   "source": [
    "dvf_dist_ratp = dvf_dist_ratp.drop_duplicates(subset=['adresse'])"
   ]
  },
  {
   "cell_type": "code",
   "execution_count": 33,
   "id": "5426cd82-6f68-4e38-a470-736e32a4ec24",
   "metadata": {},
   "outputs": [],
   "source": [
    "dvf_geocode_clean = pd.merge(dvf_geocode, dvf_dist_ratp, on='adresse')"
   ]
  },
  {
   "cell_type": "code",
   "execution_count": 36,
   "id": "de3883aa-00ef-432f-a8c2-86c72f787c53",
   "metadata": {},
   "outputs": [],
   "source": [
    "dvf_dist_clean = dvf_dist_ratp.drop_duplicates(subset='adresse')"
   ]
  },
  {
   "cell_type": "code",
   "execution_count": 37,
   "id": "6d2d7896-9e69-4c23-b69e-1df4c03b6d83",
   "metadata": {},
   "outputs": [],
   "source": [
    "dvf_dist_clean.to_csv('dvf-dist-ratp.csv')"
   ]
  }
 ],
 "metadata": {
  "kernelspec": {
   "display_name": "Python 3",
   "language": "python",
   "name": "python3"
  },
  "language_info": {
   "codemirror_mode": {
    "name": "ipython",
    "version": 3
   },
   "file_extension": ".py",
   "mimetype": "text/x-python",
   "name": "python",
   "nbconvert_exporter": "python",
   "pygments_lexer": "ipython3",
   "version": "3.9.2"
  }
 },
 "nbformat": 4,
 "nbformat_minor": 5
}
