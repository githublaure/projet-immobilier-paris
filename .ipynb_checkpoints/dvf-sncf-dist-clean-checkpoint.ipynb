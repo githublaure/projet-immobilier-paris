{
 "cells": [
  {
   "cell_type": "code",
   "execution_count": 1,
   "id": "a508020b-5e5a-4d7f-875f-ff20fbe9f62a",
   "metadata": {},
   "outputs": [],
   "source": [
    "import pandas as pd\n",
    "import numpy as np"
   ]
  },
  {
   "cell_type": "code",
   "execution_count": 266,
   "id": "7624d350-5e1c-42c0-93f4-f078f7d38a66",
   "metadata": {},
   "outputs": [
    {
     "name": "stderr",
     "output_type": "stream",
     "text": [
      "C:\\Users\\JouJo\\Anaconda3\\envs\\Python3_9\\lib\\site-packages\\IPython\\core\\interactiveshell.py:3165: DtypeWarning: Columns (15,22) have mixed types.Specify dtype option on import or set low_memory=False.\n",
      "  has_raised = await self.run_ast_nodes(code_ast.body, cell_name,\n"
     ]
    }
   ],
   "source": [
    "dvf_geocode = pd.read_csv('dvf-data.csv')"
   ]
  },
  {
   "cell_type": "code",
   "execution_count": 269,
   "id": "f00fbad8-e74d-411b-8270-910d7441014c",
   "metadata": {},
   "outputs": [],
   "source": [
    "dvf_geocode = dvf_geocode.dropna(subset=['no_voie']).dropna(subset=['code_postal'])"
   ]
  },
  {
   "cell_type": "code",
   "execution_count": 272,
   "id": "51ae7a67-721d-4c7e-a287-347fb82c3e70",
   "metadata": {},
   "outputs": [],
   "source": [
    "dvf_geocode = (dvf_geocode\n",
    " .assign(\n",
    "     nvoie = lambda x: x.no_voie.astype('int').astype('str'),\n",
    "     adresse = lambda x: x.nvoie + ' ' + x.type_de_voie + ' ' + x.voie,\n",
    "     code_postal = lambda x: x.code_postal.astype('int'),\n",
    "     adresse_postal = lambda x: x.adresse + ', ' + x.code_postal.astype('str')\n",
    " )\n",
    " .loc[:, ['adresse', 'code_postal', 'adresse_postal']]\n",
    " .drop_duplicates()\n",
    ")"
   ]
  },
  {
   "cell_type": "code",
   "execution_count": 210,
   "id": "dcd57989-e6f3-4304-95a6-bd8b09d839be",
   "metadata": {},
   "outputs": [],
   "source": [
    "for i, w in enumerate(adresse):\n",
    "    adresse[i] = replace_all(w, dict_to_correct)"
   ]
  },
  {
   "cell_type": "code",
   "execution_count": 273,
   "id": "2a554ab0-ad62-462e-8617-9bc12db69047",
   "metadata": {},
   "outputs": [],
   "source": [
    "dvf_geocode.loc[:, ['adresse', 'code_postal']].rename(columns={'adresse':'adresse', 'code_postal':'postcode'}).to_csv('dvf-geocode.csv')"
   ]
  },
  {
   "cell_type": "code",
   "execution_count": 274,
   "id": "969dda28-15c7-4aea-a341-5c370b235be6",
   "metadata": {},
   "outputs": [
    {
     "name": "stderr",
     "output_type": "stream",
     "text": [
      "C:\\Users\\JouJo\\Anaconda3\\envs\\Python3_9\\lib\\site-packages\\IPython\\core\\interactiveshell.py:3165: DtypeWarning: Columns (17) have mixed types.Specify dtype option on import or set low_memory=False.\n",
      "  has_raised = await self.run_ast_nodes(code_ast.body, cell_name,\n"
     ]
    }
   ],
   "source": [
    "dvf_geocoordinates = pd.read_csv('dvf-geocoordinates.csv')"
   ]
  },
  {
   "cell_type": "code",
   "execution_count": 276,
   "id": "5780ef21-2b4a-484b-b425-d64664c02beb",
   "metadata": {},
   "outputs": [
    {
     "name": "stdout",
     "output_type": "stream",
     "text": [
      "<class 'pandas.core.frame.DataFrame'>\n",
      "Int64Index: 163429 entries, 0 to 619817\n",
      "Data columns (total 3 columns):\n",
      " #   Column          Non-Null Count   Dtype \n",
      "---  ------          --------------   ----- \n",
      " 0   adresse         163363 non-null  object\n",
      " 1   code_postal     163429 non-null  int32 \n",
      " 2   adresse_postal  163363 non-null  object\n",
      "dtypes: int32(1), object(2)\n",
      "memory usage: 4.4+ MB\n"
     ]
    }
   ],
   "source": [
    "dvf_geocode.info()"
   ]
  },
  {
   "cell_type": "markdown",
   "id": "20f7aa70-0d46-4505-aef5-be7d5d41298a",
   "metadata": {},
   "source": [
    "## Calculate distances to gare sncf"
   ]
  },
  {
   "cell_type": "code",
   "execution_count": 287,
   "id": "9fef641d-ce1b-40ee-a468-8be9bb8e1061",
   "metadata": {},
   "outputs": [],
   "source": [
    "sncf = pd.read_csv('sncf-geocoordinates.csv').query('latitude.notna()')"
   ]
  },
  {
   "cell_type": "code",
   "execution_count": 306,
   "id": "492a2cae-359f-4c7e-8ace-b172c6f9fa87",
   "metadata": {},
   "outputs": [],
   "source": [
    "sncf_coords = []\n",
    "sncf_index = []\n",
    "for i in sncf.index:\n",
    "    sncf_index.append(i)\n",
    "    lat = sncf.latitude[i]\n",
    "    lon = sncf.longitude[i]\n",
    "    sncf_coords.append((lat, lon))"
   ]
  },
  {
   "cell_type": "code",
   "execution_count": 370,
   "id": "9979fc9f-4576-4bce-832e-60bc26792759",
   "metadata": {},
   "outputs": [],
   "source": [
    "dvf_coords = []\n",
    "for i in dvf_geocoordinates.index:\n",
    "    lat = dvf_geocoordinates.latitude[i]\n",
    "    lon = dvf_geocoordinates.longitude[i]\n",
    "    dvf_coords.append((lat, lon))"
   ]
  },
  {
   "cell_type": "code",
   "execution_count": 367,
   "id": "86ef6437-a617-428a-8469-0f5ff718f9f4",
   "metadata": {},
   "outputs": [],
   "source": [
    "dvf_geocoordinates = dvf_geocoordinates.dropna(subset=['adresse'])"
   ]
  },
  {
   "cell_type": "code",
   "execution_count": 297,
   "id": "312c2518-20cf-49e0-81b8-eeae752c9cd4",
   "metadata": {},
   "outputs": [],
   "source": [
    "from geopy import distance"
   ]
  },
  {
   "cell_type": "code",
   "execution_count": 397,
   "id": "2b2685af-a339-4f39-b864-b5b2c3769a82",
   "metadata": {},
   "outputs": [],
   "source": [
    "def calculate_distance(center, points):\n",
    "    return list(map(lambda x: distance.distance(center, x).km, points))\n",
    "\n",
    "def count_points_in_radius(radius, distances):\n",
    "    return len(list(filter(lambda x: x < radius, distances)))\n",
    "\n",
    "def get_min_distance(distances):\n",
    "    return min(distances)\n",
    "\n",
    "def get_individual_info(center, points):\n",
    "    distances = calculate_distance(center, points)\n",
    "    ngare1 = count_points_in_radius(1, distances)\n",
    "    ngare2 = count_points_in_radius(2, distances)\n",
    "    ngare3 = count_points_in_radius(3, distances)\n",
    "    min_distance = get_min_distance(distances)\n",
    "    return ngare1, ngare2, ngare3, min_distance"
   ]
  },
  {
   "cell_type": "code",
   "execution_count": 409,
   "id": "cd450b17-7f93-452f-9adc-678fba8bfcee",
   "metadata": {},
   "outputs": [
    {
     "name": "stdout",
     "output_type": "stream",
     "text": [
      "Wall time: 1h 6min 17s\n"
     ]
    }
   ],
   "source": [
    "%%time\n",
    "sncf_info = [None] * len(dvf_coords)\n",
    "\n",
    "for i in range(len(dvf_coords)):\n",
    "    try:\n",
    "        sncf_info[i] = get_individual_info(dvf_coords[i], sncf_coords)\n",
    "    except:\n",
    "        sncf_info[i] = (np.nan, np.nan, np.nan, np.nan)"
   ]
  },
  {
   "cell_type": "code",
   "execution_count": 427,
   "id": "c57cf268-be5b-4ed4-8d64-8b34b89ec62e",
   "metadata": {},
   "outputs": [],
   "source": [
    "dvf_dist_sncf = (dvf_geocoordinates\n",
    " .loc[:, ['adresse', 'postcode', 'latitude', 'longitude']]\n",
    " .assign(sncf_ngare1 = [x[0] for x in sncf_info],\n",
    "         sncf_ngare2 = [x[1] for x in sncf_info],\n",
    "         sncf_ngare3 = [x[2] for x in sncf_info],\n",
    "         sncf_min_distance = [x[3] for x in sncf_info])\n",
    ")"
   ]
  },
  {
   "cell_type": "code",
   "execution_count": 421,
   "id": "9650890f-405a-4320-8e11-ef14431db5e3",
   "metadata": {},
   "outputs": [
    {
     "name": "stderr",
     "output_type": "stream",
     "text": [
      "C:\\Users\\JouJo\\Anaconda3\\envs\\Python3_9\\lib\\site-packages\\IPython\\core\\interactiveshell.py:3165: DtypeWarning: Columns (16,23) have mixed types.Specify dtype option on import or set low_memory=False.\n",
      "  has_raised = await self.run_ast_nodes(code_ast.body, cell_name,\n"
     ]
    }
   ],
   "source": [
    "dvf_geocode = pd.read_csv('dvf-data.csv')"
   ]
  },
  {
   "cell_type": "code",
   "execution_count": 423,
   "id": "a3dbe4a0-d230-4712-9075-6d0c280f7971",
   "metadata": {},
   "outputs": [],
   "source": [
    "dvf_geocode = (dvf_geocode\n",
    " .assign(\n",
    "     nvoie = lambda x: x.no_voie.astype('int').astype('str'),\n",
    "     adresse = lambda x: x.nvoie + ' ' + x.type_de_voie + ' ' + x.voie,\n",
    "     code_postal = lambda x: x.code_postal.astype('int'),\n",
    "     adresse_postal = lambda x: x.adresse + ', ' + x.code_postal.astype('str')\n",
    " )\n",
    " .loc[:, ['adresse', 'code_postal', 'adresse_postal']]\n",
    ")"
   ]
  },
  {
   "cell_type": "code",
   "execution_count": 428,
   "id": "5a35697a-b1c6-4840-b739-7eef7e1ae10a",
   "metadata": {},
   "outputs": [],
   "source": [
    "dvf_geocode_clean = pd.merge(dvf_geocode, dvf_dist_sncf, on='adresse')"
   ]
  },
  {
   "cell_type": "code",
   "execution_count": 430,
   "id": "b3e6b13b-38ee-442b-8a84-cae98b6df56b",
   "metadata": {},
   "outputs": [],
   "source": [
    "dvf_geocode_clean.to_csv('dvf-dist-sncf.csv')"
   ]
  }
 ],
 "metadata": {
  "kernelspec": {
   "display_name": "Python 3",
   "language": "python",
   "name": "python3"
  },
  "language_info": {
   "codemirror_mode": {
    "name": "ipython",
    "version": 3
   },
   "file_extension": ".py",
   "mimetype": "text/x-python",
   "name": "python",
   "nbconvert_exporter": "python",
   "pygments_lexer": "ipython3",
   "version": "3.9.2"
  }
 },
 "nbformat": 4,
 "nbformat_minor": 5
}
