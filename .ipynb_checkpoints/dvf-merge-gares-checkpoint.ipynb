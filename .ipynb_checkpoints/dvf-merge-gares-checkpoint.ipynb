{
 "cells": [
  {
   "cell_type": "code",
   "execution_count": 1,
   "metadata": {},
   "outputs": [],
   "source": [
    "import pandas as pd\n",
    "import numpy as np"
   ]
  },
  {
   "cell_type": "code",
   "execution_count": 41,
   "metadata": {},
   "outputs": [
    {
     "name": "stderr",
     "output_type": "stream",
     "text": [
      "C:\\Users\\JouJo\\Anaconda3\\envs\\py39\\lib\\site-packages\\IPython\\core\\interactiveshell.py:3165: DtypeWarning: Columns (17,24) have mixed types.Specify dtype option on import or set low_memory=False.\n",
      "  has_raised = await self.run_ast_nodes(code_ast.body, cell_name,\n"
     ]
    }
   ],
   "source": [
    "dvf_main = pd.read_csv('dvf-data.csv')"
   ]
  },
  {
   "cell_type": "code",
   "execution_count": 47,
   "metadata": {},
   "outputs": [],
   "source": [
    "dvf_sncf = pd.read_csv('dvf-dist-sncf.csv')\n",
    "dvf_sncf = dvf_sncf.loc[:, ['adresse', 'latitude', 'longitude', 'sncf_ngare1', 'sncf_ngare2', 'sncf_ngare3', 'sncf_min_distance']]"
   ]
  },
  {
   "cell_type": "code",
   "execution_count": 48,
   "metadata": {},
   "outputs": [
    {
     "data": {
      "text/html": [
       "<div>\n",
       "<style scoped>\n",
       "    .dataframe tbody tr th:only-of-type {\n",
       "        vertical-align: middle;\n",
       "    }\n",
       "\n",
       "    .dataframe tbody tr th {\n",
       "        vertical-align: top;\n",
       "    }\n",
       "\n",
       "    .dataframe thead th {\n",
       "        text-align: right;\n",
       "    }\n",
       "</style>\n",
       "<table border=\"1\" class=\"dataframe\">\n",
       "  <thead>\n",
       "    <tr style=\"text-align: right;\">\n",
       "      <th></th>\n",
       "      <th>adresse</th>\n",
       "      <th>latitude</th>\n",
       "      <th>longitude</th>\n",
       "      <th>sncf_ngare1</th>\n",
       "      <th>sncf_ngare2</th>\n",
       "      <th>sncf_ngare3</th>\n",
       "      <th>sncf_min_distance</th>\n",
       "    </tr>\n",
       "  </thead>\n",
       "  <tbody>\n",
       "    <tr>\n",
       "      <th>0</th>\n",
       "      <td>24 RUE DU DOC FOUCAULT</td>\n",
       "      <td>48.892463</td>\n",
       "      <td>2.194710</td>\n",
       "      <td>0.0</td>\n",
       "      <td>1.0</td>\n",
       "      <td>1.0</td>\n",
       "      <td>1.829193</td>\n",
       "    </tr>\n",
       "    <tr>\n",
       "      <th>1</th>\n",
       "      <td>30 RUE DU 22 SEPTEMBRE</td>\n",
       "      <td>48.904179</td>\n",
       "      <td>2.269954</td>\n",
       "      <td>2.0</td>\n",
       "      <td>5.0</td>\n",
       "      <td>10.0</td>\n",
       "      <td>0.225391</td>\n",
       "    </tr>\n",
       "    <tr>\n",
       "      <th>2</th>\n",
       "      <td>61 RUE THOMAS LEMAITRE</td>\n",
       "      <td>48.890869</td>\n",
       "      <td>2.188545</td>\n",
       "      <td>0.0</td>\n",
       "      <td>0.0</td>\n",
       "      <td>1.0</td>\n",
       "      <td>2.308021</td>\n",
       "    </tr>\n",
       "    <tr>\n",
       "      <th>3</th>\n",
       "      <td>39 RUE RAYMOND POINCARE</td>\n",
       "      <td>48.888170</td>\n",
       "      <td>2.189973</td>\n",
       "      <td>0.0</td>\n",
       "      <td>0.0</td>\n",
       "      <td>2.0</td>\n",
       "      <td>2.387528</td>\n",
       "    </tr>\n",
       "    <tr>\n",
       "      <th>4</th>\n",
       "      <td>100 RUE DE LA LIBERTE</td>\n",
       "      <td>48.879591</td>\n",
       "      <td>2.219065</td>\n",
       "      <td>1.0</td>\n",
       "      <td>2.0</td>\n",
       "      <td>6.0</td>\n",
       "      <td>0.909255</td>\n",
       "    </tr>\n",
       "    <tr>\n",
       "      <th>...</th>\n",
       "      <td>...</td>\n",
       "      <td>...</td>\n",
       "      <td>...</td>\n",
       "      <td>...</td>\n",
       "      <td>...</td>\n",
       "      <td>...</td>\n",
       "      <td>...</td>\n",
       "    </tr>\n",
       "    <tr>\n",
       "      <th>141333</th>\n",
       "      <td>11 RUE DU SENTIER</td>\n",
       "      <td>48.868429</td>\n",
       "      <td>2.345499</td>\n",
       "      <td>0.0</td>\n",
       "      <td>9.0</td>\n",
       "      <td>10.0</td>\n",
       "      <td>1.324249</td>\n",
       "    </tr>\n",
       "    <tr>\n",
       "      <th>141334</th>\n",
       "      <td>37 RUE TIQUETONNE</td>\n",
       "      <td>48.864724</td>\n",
       "      <td>2.347184</td>\n",
       "      <td>0.0</td>\n",
       "      <td>8.0</td>\n",
       "      <td>14.0</td>\n",
       "      <td>1.256869</td>\n",
       "    </tr>\n",
       "    <tr>\n",
       "      <th>141335</th>\n",
       "      <td>147 RUE SAINT-DENIS</td>\n",
       "      <td>48.864735</td>\n",
       "      <td>2.350133</td>\n",
       "      <td>0.0</td>\n",
       "      <td>8.0</td>\n",
       "      <td>14.0</td>\n",
       "      <td>1.297949</td>\n",
       "    </tr>\n",
       "    <tr>\n",
       "      <th>141336</th>\n",
       "      <td>24 RUE CHANOINESSE</td>\n",
       "      <td>48.854202</td>\n",
       "      <td>2.350294</td>\n",
       "      <td>1.0</td>\n",
       "      <td>6.0</td>\n",
       "      <td>16.0</td>\n",
       "      <td>0.364435</td>\n",
       "    </tr>\n",
       "    <tr>\n",
       "      <th>141337</th>\n",
       "      <td>39 RUE SAINT-SAUVEUR</td>\n",
       "      <td>48.866089</td>\n",
       "      <td>2.348231</td>\n",
       "      <td>0.0</td>\n",
       "      <td>8.0</td>\n",
       "      <td>12.0</td>\n",
       "      <td>1.400941</td>\n",
       "    </tr>\n",
       "  </tbody>\n",
       "</table>\n",
       "<p>141338 rows × 7 columns</p>\n",
       "</div>"
      ],
      "text/plain": [
       "                        adresse   latitude  longitude  sncf_ngare1  \\\n",
       "0        24 RUE DU DOC FOUCAULT  48.892463   2.194710          0.0   \n",
       "1        30 RUE DU 22 SEPTEMBRE  48.904179   2.269954          2.0   \n",
       "2        61 RUE THOMAS LEMAITRE  48.890869   2.188545          0.0   \n",
       "3       39 RUE RAYMOND POINCARE  48.888170   2.189973          0.0   \n",
       "4         100 RUE DE LA LIBERTE  48.879591   2.219065          1.0   \n",
       "...                         ...        ...        ...          ...   \n",
       "141333        11 RUE DU SENTIER  48.868429   2.345499          0.0   \n",
       "141334        37 RUE TIQUETONNE  48.864724   2.347184          0.0   \n",
       "141335      147 RUE SAINT-DENIS  48.864735   2.350133          0.0   \n",
       "141336       24 RUE CHANOINESSE  48.854202   2.350294          1.0   \n",
       "141337     39 RUE SAINT-SAUVEUR  48.866089   2.348231          0.0   \n",
       "\n",
       "        sncf_ngare2  sncf_ngare3  sncf_min_distance  \n",
       "0               1.0          1.0           1.829193  \n",
       "1               5.0         10.0           0.225391  \n",
       "2               0.0          1.0           2.308021  \n",
       "3               0.0          2.0           2.387528  \n",
       "4               2.0          6.0           0.909255  \n",
       "...             ...          ...                ...  \n",
       "141333          9.0         10.0           1.324249  \n",
       "141334          8.0         14.0           1.256869  \n",
       "141335          8.0         14.0           1.297949  \n",
       "141336          6.0         16.0           0.364435  \n",
       "141337          8.0         12.0           1.400941  \n",
       "\n",
       "[141338 rows x 7 columns]"
      ]
     },
     "execution_count": 48,
     "metadata": {},
     "output_type": "execute_result"
    }
   ],
   "source": [
    "dvf_sncf"
   ]
  },
  {
   "cell_type": "code",
   "execution_count": 50,
   "metadata": {},
   "outputs": [],
   "source": [
    "dvf_ratp = pd.read_csv('dvf-dist-ratp.csv')\n",
    "dvf_ratp = dvf_ratp.loc[:, ['adresse', 'ratp_ngare1', 'ratp_ngare2', 'ratp_ngare3', 'ratp_min_distance']]"
   ]
  },
  {
   "cell_type": "code",
   "execution_count": 51,
   "metadata": {},
   "outputs": [],
   "source": [
    "dvf_main = (dvf_main\n",
    " .assign(\n",
    "     nvoie = lambda x: x.no_voie.astype('int').astype('str'),\n",
    "     adresse = lambda x: x.nvoie + ' ' + x.type_de_voie + ' ' + x.voie\n",
    " )\n",
    " .iloc[:, 4:]\n",
    ")"
   ]
  },
  {
   "cell_type": "code",
   "execution_count": 55,
   "metadata": {},
   "outputs": [],
   "source": [
    "dvf_main_gares = (pd.merge(dvf_main, dvf_sncf, on='adresse')\n",
    " .merge(dvf_ratp, on='adresse'))"
   ]
  },
  {
   "cell_type": "code",
   "execution_count": 60,
   "metadata": {},
   "outputs": [],
   "source": [
    "dvf_main_gares = dvf_main_gares.dropna(subset=['latitude'])"
   ]
  },
  {
   "cell_type": "code",
   "execution_count": 61,
   "metadata": {},
   "outputs": [],
   "source": [
    "dvf_main_gares.to_csv('dvf-data-gare.csv')"
   ]
  }
 ],
 "metadata": {
  "kernelspec": {
   "display_name": "Python 3",
   "language": "python",
   "name": "python3"
  },
  "language_info": {
   "codemirror_mode": {
    "name": "ipython",
    "version": 3
   },
   "file_extension": ".py",
   "mimetype": "text/x-python",
   "name": "python",
   "nbconvert_exporter": "python",
   "pygments_lexer": "ipython3",
   "version": "3.9.4"
  }
 },
 "nbformat": 4,
 "nbformat_minor": 4
}
